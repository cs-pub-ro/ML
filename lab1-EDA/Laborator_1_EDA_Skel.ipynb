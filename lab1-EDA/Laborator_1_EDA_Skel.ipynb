{
 "cells": [
  {
   "cell_type": "markdown",
   "metadata": {
    "id": "GVJw_cRGZE-H"
   },
   "source": [
    "# Laborator 1 - Analiza exploratorie a datelor (EDA)\n",
    "Mihai Trăscău (2023)\n",
    "\n",
    "Scopul acestui laborator este de a deprinde câteva din tehnicile de explorare a un set de date. Metodele de analiză pe care le veți folosi vă ajută spre a descoperi particularități și probleme ale setului de date, cum ar fi:\n",
    "* Înțelegerea compoziției setului de date (atribute, valori și exemple)\n",
    "* Realizarea unor statistici (simple) la nivelul setului de date\n",
    "* Descoperirea și tratarea datelor eronate sau lipsă\n",
    "* Vizualizarea datelor (pentru o mai bună înțelegere)\n",
    "* Calculul corelațiilor între atribute\n",
    "\n",
    "Toate acestea vă ajută să vă asigurați că veți avea un set de date utilizabil și să puteți lua o decizie cât mai informată referitoare la modelele de învățare pe care le veți utiliza.\n",
    "\n",
    "## Bibliotecile Numpy și Pandas\n",
    "Cele mai populare biblioteci (oferite sub formă de pachete) din Python pentru a realiza astfel de analize sunt [Numpy](https://numpy.org/doc/stable/) și [Pandas](https://pandas.pydata.org/docs/reference/index.html). Numpy servește ca model de bază pentru matricele multidimensionale cu care veți lucra, în timp ce Pandas pune la dispoziție o suită întreagă de metode de analiză și vizualizare a datelor. Majoritatea funcțiilor pe care le veți utiliza în acest laborator sunt din biblioteca _pandas_. Suplimentar, veți folosi și funcții de vizualizare (mai avansate) din biblioteca Matplotlib sau din [Seaborn](https://seaborn.pydata.org/tutorial/introduction) (strâns legată de _pandas_).\n",
    "\n",
    "## Setul de date\n",
    "Veți lucra cu setul de date [Heart Disease](https://archive.ics.uci.edu/ml/datasets/heart+disease) din colecția UCI. Acesta conține informații despre pacienți care suferă (sau nu) de boli de inimă. Atributele din setul de date sunt, în ordine:\n",
    "1. _age_ - vârstă\n",
    "2. _sex_ - sexul biologic al pacientului (1 pentru bărbat și 0 pentru femeie)\n",
    "3. _cp_  - tipul durerii în piept\n",
    "4. _trestbps_ - tensiunea arterială la repaos (în mm/Hg)\n",
    "5. _chol_ - colesterol seric (în mg/dl)\n",
    "6. _fbs_ - glicemie peste 120 md/dl\n",
    "7. _restecg_ - rezultate electrocardiograma\n",
    "8. _thalach_ - puls maxim\n",
    "9. _exang_ - dureri induse de exerciții (1 pentru da, 0 pentru nu)\n",
    "10. _oldpeak_ - diferența ECG din testul de stres față de repaos\n",
    "11. _slope_ - panta ECG în testul de stres\n",
    "12. _ca_ - numărul de vase majore colorate prin fluoroscopie\n",
    "13. _thal_ - tip de thalassemie (boală de sânge)\n",
    "14. _target_ - diagnostic de severitate a îngustării a vaselor de sânge"
   ]
  },
  {
   "cell_type": "code",
   "execution_count": 1,
   "metadata": {
    "id": "9QxZet9ZZE-N"
   },
   "outputs": [],
   "source": [
    "# Încărcăm pachetele necesare\n",
    "\n",
    "# Structuri de date și unelte de analiză\n",
    "import numpy as np\n",
    "import pandas as pd\n",
    "\n",
    "# Vizualizare\n",
    "import matplotlib.pyplot as plt\n",
    "from matplotlib import rcParams\n",
    "import seaborn as sns"
   ]
  },
  {
   "cell_type": "code",
   "execution_count": 2,
   "metadata": {
    "id": "K1tRN49EZE-P"
   },
   "outputs": [],
   "source": [
    "# Descărcăm setul de date\n",
    "data_link = \"https://archive.ics.uci.edu/ml/machine-learning-databases/heart-disease/processed.cleveland.data\"\n",
    "dataset = pd.read_csv(data_link)"
   ]
  },
  {
   "cell_type": "markdown",
   "metadata": {
    "id": "gz4GmRefZE-P"
   },
   "source": [
    "---\n",
    "#### Cerința 1 [0p]\n",
    "Afisați primele 5 exemple din setul de date pentru a le inspecta\n",
    "_(HINT: folosiți variabila **dataset** de mai sus și metode din pandas)_."
   ]
  },
  {
   "cell_type": "code",
   "execution_count": null,
   "metadata": {
    "id": "ZwWqQTyeZE-Q"
   },
   "outputs": [],
   "source": [
    "# TODO 1"
   ]
  },
  {
   "cell_type": "markdown",
   "metadata": {
    "id": "j5RBwhZ5ZE-Q"
   },
   "source": [
    "---\n",
    "#### Cerința 2 [0.5p]\n",
    "Observând problema legată de coloane, rescrieți numele acestora pentru a fi ușor de lucrat cu acestea în continuare. Afișați apoi, din nou, primele 5 exemple."
   ]
  },
  {
   "cell_type": "code",
   "execution_count": null,
   "metadata": {
    "id": "2ExK8SA0ZE-Q"
   },
   "outputs": [],
   "source": [
    "# TODO 2"
   ]
  },
  {
   "cell_type": "markdown",
   "metadata": {
    "id": "YKxycqGvZE-R"
   },
   "source": [
    "---\n",
    "#### Cerința 3 [0p]\n",
    "Găsiți numărul de exemple din setul de date."
   ]
  },
  {
   "cell_type": "code",
   "execution_count": null,
   "metadata": {
    "id": "DfZgA7HJZE-R"
   },
   "outputs": [],
   "source": [
    "# TODO 3"
   ]
  },
  {
   "cell_type": "markdown",
   "metadata": {
    "id": "Yg1v2l2oZE-R"
   },
   "source": [
    "---\n",
    "#### Cerința 4  [0.5p]\n",
    "Găsiți, pentru fiecare atribut în parte, următoarele metrici de interes:\n",
    "* numărul de exemple care nu au valori lipsă\n",
    "* valoarea medie\n",
    "* deviația standard a valorilor\n",
    "* valoarea minimă\n",
    "* valoarea quantilei 25% (valoarea sub care se găsesc 25% din exemple)\n",
    "* valoarea quantilei 50% (valoarea sub care se găsesc 50% din exemple)\n",
    "* valoarea quantilei 75% (valoarea sub care se găsesc 75% din exemple)\n",
    "* valoarea maximă\n",
    "\n",
    "_(HINT: Este de ajuns să utilizați o singură metodă din pandas)_"
   ]
  },
  {
   "cell_type": "code",
   "execution_count": null,
   "metadata": {
    "id": "hpUGOOmWZE-S"
   },
   "outputs": [],
   "source": [
    "# TODO 4"
   ]
  },
  {
   "cell_type": "markdown",
   "metadata": {
    "id": "CE4MVhxoZE-S"
   },
   "source": [
    "---\n",
    "#### Cerința 5 [0.5p]\n",
    "Afișați informații legate de tipul de date și numărul de exemple cu valori nenule pentu fiecare atribut în parte."
   ]
  },
  {
   "cell_type": "code",
   "execution_count": null,
   "metadata": {
    "id": "ZsoL_Vp6ZE-S"
   },
   "outputs": [],
   "source": [
    "# TODO 5"
   ]
  },
  {
   "cell_type": "markdown",
   "metadata": {
    "id": "u0Ie2JYYZE-T"
   },
   "source": [
    "---\n",
    "#### Cerința 6 [0.5p]\n",
    "Verificați pentru fiecare atribut în parte câte exemple au valori nule (NaN)."
   ]
  },
  {
   "cell_type": "code",
   "execution_count": null,
   "metadata": {
    "id": "l0kV4U0OZE-T"
   },
   "outputs": [],
   "source": [
    "# TODO 6"
   ]
  },
  {
   "cell_type": "markdown",
   "metadata": {
    "id": "MgNzrnUBZE-T"
   },
   "source": [
    "---\n",
    "#### Cerința 7 [1p]\n",
    "Descoperiți care atribute conțin și alte simboluri în afară de valori numerice și afișați exemplele în cauză prin concatenarea lor într-un singur _DataFrame_ din _pandas_ (care să NU conțină duplicate).\n",
    "\n",
    "_(HINT: Dacă ați rezolvat Cerința 5 vedeți ușor care sunt atributele căutate)._"
   ]
  },
  {
   "cell_type": "code",
   "execution_count": null,
   "metadata": {
    "id": "W1kIYLXPZE-T"
   },
   "outputs": [],
   "source": [
    "# TODO 7"
   ]
  },
  {
   "cell_type": "markdown",
   "metadata": {
    "id": "bccLLPEBZE-U"
   },
   "source": [
    "---\n",
    "#### Cerința 8  [1p]\n",
    "Tratarea valorilor lipsă sau necunoscute din setul de date este importantă din perspectiva aplicării ulterioare a metodelor de învățare. Astfel, înlocuiți simbolurile non-numerice descoperite la pasul trecut cu valoarea cea mai frecventă pentru atributul respectiv."
   ]
  },
  {
   "cell_type": "code",
   "execution_count": null,
   "metadata": {
    "id": "gV3pFr-0ZE-U"
   },
   "outputs": [],
   "source": [
    "# TODO 8"
   ]
  },
  {
   "cell_type": "markdown",
   "metadata": {
    "id": "7FyxuCzQZE-U"
   },
   "source": [
    "#### Cerința 9 [0.5p]\n",
    "Histogramele reprezintă modalități de vizualiza distribuția (frecvența) de valori ale atributelor din setul de date. Atributele  continue sunt discretizate (în „bins”) înainte de a fi afișate."
   ]
  },
  {
   "cell_type": "code",
   "execution_count": null,
   "metadata": {
    "id": "SDDUTl2-ZE-V"
   },
   "outputs": [],
   "source": [
    "sns.set(rc={'figure.figsize':(20.7,12.27)})\n",
    "# TODO 9"
   ]
  },
  {
   "cell_type": "markdown",
   "metadata": {
    "id": "cSMRO6xuZE-V"
   },
   "source": [
    "---\n",
    "#### Cerința 10  [1p]\n",
    "Plotați histograma atributului _age_ pentru următoarele intervale: 0-18, 18-35, 35-45, 45-55, 55-65 și 65+.\n",
    "\n",
    "_(HINT: Fixați și parametrul width pentru histogramă pentru afișare mai plăcută)_"
   ]
  },
  {
   "cell_type": "code",
   "execution_count": null,
   "metadata": {
    "id": "NLxkggXxZE-V"
   },
   "outputs": [],
   "source": [
    "# TODO 10"
   ]
  },
  {
   "cell_type": "markdown",
   "metadata": {
    "id": "slvbSIm4ZE-V"
   },
   "source": [
    "---\n",
    "#### Cerința 11  [1p]\n",
    "Plotați histograma atributului _target_ grupată după sexul pacienților. Păstrați aceeași amplitudine pe axa frecvenței pentru graficele obținute."
   ]
  },
  {
   "cell_type": "code",
   "execution_count": null,
   "metadata": {
    "id": "duZJtBdIZE-V"
   },
   "outputs": [],
   "source": [
    "# TODO 11"
   ]
  },
  {
   "cell_type": "markdown",
   "metadata": {
    "id": "5TdAHNpaZE-W"
   },
   "source": [
    "---\n",
    "#### Cerința 12  [1p]\n",
    "Setul nostru de date conține exemple din 5 clase de severitate a diagnosticului, însă pe noi ne interesează doar să cunoaștem dacă diagnosticul este pozitiv sau negativ. Transformați atributul _target_ într-unul binar prin remaparea tuturor valorilor non-zero la valoarea _1_. Afișați apoi histograma pentru atributul astfel modificat."
   ]
  },
  {
   "cell_type": "code",
   "execution_count": null,
   "metadata": {
    "id": "WWoVDDpzZE-W"
   },
   "outputs": [],
   "source": [
    "# TODO 12"
   ]
  },
  {
   "cell_type": "markdown",
   "metadata": {
    "id": "icjrNhw-ZE-W"
   },
   "source": [
    "---\n",
    "#### Cerința 13 [0.5p]\n",
    "Corelațiile descriu relații între perechi variabile indicând conform valorilor acestora:\n",
    "* dacă o variabilă crește, cealaltă crește și ea (valoare de corelație pozitivă, spre 1)\n",
    "* dacă o variabilă crește, cealaltă scade (valoare de corelație negativă, spre -1)\n",
    "* cele două variabile nu sunt suficient (sau deloc) corelate (valoare de corelație apropiată de 0)\n",
    "\n",
    "Calculați folosind metode din _pandas_ valorile acestor corelații (Pearson). Valorile vor fi apoi afișate folosind o hartă cu temperatură (heatmap) folosind _seaborn_.\n"
   ]
  },
  {
   "cell_type": "code",
   "execution_count": null,
   "metadata": {
    "id": "LEVQvldyZE-W"
   },
   "outputs": [],
   "source": [
    "# TODO 13"
   ]
  },
  {
   "cell_type": "markdown",
   "metadata": {
    "id": "6JQvqYceZE-W"
   },
   "source": [
    "#### Cerința 14  [1p]\n",
    "Extrageți și afișați top-3 atribute puternic corelate cu ținta. Apoi, extrageți și afișați top-3 atribute cele mai puțin corelate cu ținta. Acestea din urmă reprezintă, spre exemplu, candidați buni de atribute ce ar putea fi eliminate dacă am dori un set de date mai „suplu”.\n",
    "\n",
    "(HINT: Utilizați valoarea absolută a corelației întrucât și corelațiile negative de valori mari absolute sunt considerate „puternice”)."
   ]
  },
  {
   "cell_type": "code",
   "execution_count": null,
   "metadata": {
    "id": "imKOAs8wZE-X"
   },
   "outputs": [],
   "source": [
    "# TODO 14"
   ]
  },
  {
   "cell_type": "markdown",
   "metadata": {
    "id": "pJhXQZ6GZE-X"
   },
   "source": [
    "---\n",
    "#### Cerința 15  [0.5p]\n",
    "Folosind _seaborn_ plotați un grafic compus care să descrie modul în care fiecare dintre perechile de atribute din setul de date variază una față de cealaltă. Practic, pentru fiecare astfel de pereche pe o axă vom regăsi valorile primului atribut iar pe celalaltă valorile celui de-al doilea."
   ]
  },
  {
   "cell_type": "code",
   "execution_count": null,
   "metadata": {
    "id": "72JoOiI7ZE-X"
   },
   "outputs": [],
   "source": [
    "# TODO 15"
   ]
  },
  {
   "cell_type": "markdown",
   "metadata": {
    "id": "esamwyR7ZE-X"
   },
   "source": [
    "---\n",
    "#### Cerința 16 [0.5p]\n",
    "Boxplot este un tip de grafic care ne permite să vizualizăm rapid care sunt valorile pentru medie, minim, maxim, percentilele 25% și 75% precum și valorile _outlier_ (cu o deviație de la medie mai mare de 3 deviații standard).\n",
    "\n",
    "Realizați un boxplot pentru coloanele _trestbps, chol și thalach_. Explicați pe grafic cum sunt afișate toate valorile descrise mai sus."
   ]
  },
  {
   "cell_type": "code",
   "execution_count": null,
   "metadata": {
    "id": "BnstprehZE-X"
   },
   "outputs": [],
   "source": [
    "# TODO 16"
   ]
  }
 ],
 "metadata": {
  "colab": {
   "provenance": []
  },
  "kernelspec": {
   "display_name": "Python 3 (ipykernel)",
   "language": "python",
   "name": "python3"
  },
  "language_info": {
   "codemirror_mode": {
    "name": "ipython",
    "version": 3
   },
   "file_extension": ".py",
   "mimetype": "text/x-python",
   "name": "python",
   "nbconvert_exporter": "python",
   "pygments_lexer": "ipython3",
   "version": "3.9.7"
  }
 },
 "nbformat": 4,
 "nbformat_minor": 1
}
