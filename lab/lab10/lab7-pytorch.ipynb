{
  "cells": [
    {
      "cell_type": "markdown",
      "metadata": {
        "id": "Xi1dtiTtK1Ov"
      },
      "source": [
        "Lab 7 : Rețele Neurale în PyTorch\n",
        "===========================\n",
        "\n",
        "Exemple introduse în acest laborator:\n",
        "- preprocesarea datelor în PyTorch ([data transforms](https://pytorch.org/docs/stable/torchvision/transforms.html))\n",
        "- utilizarea unui [DataLoader](https://pytorch.org/docs/stable/data.html#torch.utils.data.DataLoader)\n",
        "- definirea unui MLP si a unei arhitecturi convoluționale în PyTorch\n",
        "- efectul utilizării normalizării la nivel de batch (batch normalization - [Descriere](https://towardsdatascience.com/batch-normalization-in-neural-networks-1ac91516821c), [Modul PyTorch](https://pytorch.org/docs/stable/nn.html#batchnorm2d)) în arhitecturi convoluționale adânci\n",
        "- ciclul de antrenare al unei rețele în PyTorch\n",
        "\n"
      ]
    },
    {
      "cell_type": "code",
      "execution_count": 70,
      "metadata": {
        "colab": {
          "base_uri": "https://localhost:8080/"
        },
        "id": "9Ho_PioVRL_o",
        "outputId": "32bc0943-fcc0-4969-ba08-2a478c1db145"
      },
      "outputs": [
        {
          "output_type": "stream",
          "name": "stdout",
          "text": [
            "Running code @ cuda\n"
          ]
        }
      ],
      "source": [
        "from __future__ import absolute_import\n",
        "from __future__ import division\n",
        "from __future__ import print_function\n",
        "\n",
        "import time\n",
        "import torch\n",
        "import torch.nn as nn\n",
        "\n",
        "# Definirea mediului pe care va rula codul de antrenare\n",
        "device = torch.device(\"cuda\" if torch.cuda.is_available() else \"cpu\")\n",
        "\n",
        "print(f'Running code @ {device}')\n",
        "\n",
        "import numpy as np\n",
        "\n",
        "# Plotting library.\n",
        "from matplotlib import pyplot as plt\n",
        "import pylab as pl\n",
        "from IPython import display\n",
        "\n",
        "import collections\n",
        "import enum\n",
        "import warnings\n",
        "warnings.filterwarnings('ignore')"
      ]
    },
    {
      "cell_type": "markdown",
      "metadata": {
        "id": "EmjogSWJ-Xlt"
      },
      "source": [
        "## Descărcare și preparare date\n",
        "\n",
        "* **Cifar-10** este echivalentul MNIST pentru imagini naturale RGB\n",
        "\n",
        "* cuprinde 60k 32x32 imagini color din 10 clase: airplane, automobile, bird, cat, deer, dog, frog, horse, ship, truck\n",
        "\n",
        "* train: 50k; test: 10k\n",
        "\n",
        "\n",
        "**Exemplu 1: Implementarea unor metode de augmentare de date**\n",
        "\n",
        "În Pytorch pot fi folosite _transformări de date_ la momentul încărcării în memorie a unui set de date. \n",
        "Pentru aceasta se pot utiliza clase predefinite (din pachetul `torchvision.transforms`) sau pot fi construite clase custom.\n",
        "\n",
        "În acest exemplu folosim _transforms_ pentru a aplica două tehnici de augmentare a datelor, folosite la antrenare: oglindiri aleatoare a imaginilor și crop-uri aleatoare ale imaginii (sunt folosite clase existente în pachetul `torchvision.transforms`.\n"
      ]
    },
    {
      "cell_type": "code",
      "execution_count": 71,
      "metadata": {
        "colab": {
          "base_uri": "https://localhost:8080/"
        },
        "id": "LEEkhc5KRa8t",
        "outputId": "2a94d0ee-14e3-4f60-c6ed-a429a5c2c303"
      },
      "outputs": [
        {
          "output_type": "stream",
          "name": "stdout",
          "text": [
            "Files already downloaded and verified\n",
            "Files already downloaded and verified\n",
            "Size of training images (50000, 32, 32, 3)\n",
            "Size of training labels 50000\n",
            "Size of test images (10000, 32, 32, 3)\n",
            "Size of test labels 10000\n"
          ]
        }
      ],
      "source": [
        "# Prepare data \n",
        "import torchvision\n",
        "import torchvision.transforms as transforms\n",
        "\n",
        "NUM_WORKERS = 2\n",
        "\n",
        "\n",
        "TRAIN_DATASET_SIZE = 50000\n",
        "TEST_DATASET_SIZE = 10000\n",
        "\n",
        "CIFAR10_IMG_WIDTH = 32\n",
        "CIFAR10_IMG_HEIGHT = 32\n",
        "\n",
        "DATA_MEAN = (0.5, 0.5, 0.5)\t\t# define the mean for the scaling transform - PIL images already come given in \n",
        "DATA_STD = (0.5, 0.5, 0.5)\t\t# define the standard deviation for the scaling transform\n",
        "train_transform = transforms.Compose(\n",
        "    [\n",
        "        transforms.RandomHorizontalFlip(),     # apply random horizontal flip\n",
        "        transforms.RandomCrop(                          # apply random crop, after padding image with 4 values on each side, using `reflect` mode\n",
        "            size=(CIFAR10_IMG_WIDTH, CIFAR10_IMG_HEIGHT), \n",
        "            padding=(4, 4), \n",
        "            padding_mode=\"reflect\"),\n",
        "        transforms.ToTensor(),\n",
        "        transforms.Normalize(DATA_MEAN, DATA_STD)       # normalize the image tensor to [-1, 1] on each channel: img_norm = (img - data_mean) / data_std \n",
        "    ] \n",
        ")\n",
        "\n",
        "\n",
        "test_transform = transforms.Compose(\n",
        "    [\n",
        "        transforms.ToTensor(),                          # on test set we only need to apply the same normalization\n",
        "        transforms.Normalize(DATA_MEAN, DATA_STD) \n",
        "    ] \n",
        ")\n",
        "\n",
        "\n",
        "\n",
        "train_images = torchvision.datasets.CIFAR10(root='./data', train=True, download=True, \n",
        "                                            transform=train_transform)\n",
        "\n",
        "test_images = torchvision.datasets.CIFAR10(root='./data', train=False, download=True, \n",
        "                                           transform=test_transform)\n",
        "\n",
        "# Check sizes of tensors\n",
        "print(f'Size of training images {train_images.data.shape}')\n",
        "print(f'Size of training labels {len(train_images.targets)}')\n",
        "print(f'Size of test images {test_images.data.shape}')\n",
        "print(f'Size of test labels {len(test_images.targets)}')\n"
      ]
    },
    {
      "cell_type": "markdown",
      "metadata": {
        "id": "4vMPjp0UU4Mx"
      },
      "source": [
        "## Afișare imagini\n",
        "Implementarea unei „galerii” de imagini pentru vizualizarea setului de date."
      ]
    },
    {
      "cell_type": "code",
      "execution_count": 72,
      "metadata": {
        "id": "Xy0BWFwFUQ0J"
      },
      "outputs": [],
      "source": [
        "MAX_IMAGES = 10\n",
        "\n",
        "def gallery(images, label, title='Input images'):\n",
        "    class_dict = ['plane', 'car', 'bird', 'cat','deer', 'dog', 'frog', 'horse', 'ship', 'truck']\n",
        "    num_frames, h, w, num_channels = images.shape\n",
        "    num_frames = min(num_frames, MAX_IMAGES)\n",
        "    ff, axes = plt.subplots(1, num_frames, figsize=(num_frames, 1), subplot_kw={'xticks': [], \n",
        "                                                                                'yticks': []})\n",
        "    for i in range(0, num_frames):\n",
        "        if num_channels == 3:\n",
        "            axes[i].imshow(np.squeeze(images[i]))\n",
        "        else:\n",
        "            axes[i].imshow(np.squeeze(images[i]), cmap='gray')\n",
        "        axes[i].set_title(class_dict[label[i]])\n",
        "        plt.setp(axes[i].get_xticklabels(), visible=False)\n",
        "        plt.setp(axes[i].get_yticklabels(), visible=False)\n",
        "    ff.subplots_adjust(wspace=0.1)\n",
        "    plt.show()\n"
      ]
    },
    {
      "cell_type": "code",
      "execution_count": 72,
      "metadata": {
        "id": "aWvJh11N-rYX"
      },
      "outputs": [],
      "source": [
        ""
      ]
    },
    {
      "cell_type": "code",
      "execution_count": 73,
      "metadata": {
        "colab": {
          "base_uri": "https://localhost:8080/",
          "height": 102
        },
        "id": "7kGaRa23RfjT",
        "outputId": "a0559b47-3474-4971-c9f2-8aeaa1456e97"
      },
      "outputs": [
        {
          "output_type": "display_data",
          "data": {
            "text/plain": [
              "<Figure size 720x72 with 10 Axes>"
            ],
            "image/png": "[encoded data removed]"
          },
          "metadata": {}
        }
      ],
      "source": [
        "gallery(train_images.data, train_images.targets)\n"
      ]
    },
    {
      "cell_type": "markdown",
      "metadata": {
        "id": "9pgKO2uEU_tn"
      },
      "source": [
        "## Pregătirea datelor pentru antrenare și testare\n",
        "* pentru antrenare folosim optimizatori stocastici (e.g. SGD, Adam), asa că trebuie sa putem eșantiona exemple aleatoare din setul de date pentru a forma mini-batch-uri\n",
        "* pentru testare iterăm în mod secvențial prin setul de date"
      ]
    },
    {
      "cell_type": "code",
      "execution_count": 74,
      "metadata": {
        "colab": {
          "base_uri": "https://localhost:8080/"
        },
        "id": "a7DbXWyoRjO6",
        "outputId": "c1cd65e6-9b3a-4ce9-ad4b-e5b264ca0c62"
      },
      "outputs": [
        {
          "output_type": "stream",
          "name": "stdout",
          "text": [
            "Shape of training images: torch.Size([100, 3, 32, 32])\n",
            "Shape of training labels: torch.Size([100])\n"
          ]
        }
      ],
      "source": [
        "# define dimension of the batches to sample from the datasets\n",
        "BATCH_SIZE_TRAIN = 100  #@param\n",
        "BATCH_SIZE_TEST = 100  #@param\n",
        "NO_WORKERS = 8  #@param\n",
        "SHUFFLE_DATA = True\n",
        "\n",
        "# create Dataset iterator object using the data previously downloaded\n",
        "# we shuffle the data and sample repeatedly batches for training\n",
        "train_loader = torch.utils.data.DataLoader(train_images, batch_size=BATCH_SIZE_TRAIN, \n",
        "                                           shuffle=SHUFFLE_DATA, \n",
        "                                           num_workers=NO_WORKERS)\n",
        "\n",
        "# get a training batch of images and labels\n",
        "(batch_train_images, batch_train_labels) = next(iter(train_loader))\n",
        "\n",
        "# check that the shape of the training batches is the expected one\n",
        "print(f'Shape of training images: {batch_train_images.size()}')\n",
        "print(f'Shape of training labels: {batch_train_labels.size()}')\n"
      ]
    },
    {
      "cell_type": "code",
      "execution_count": 75,
      "metadata": {
        "colab": {
          "base_uri": "https://localhost:8080/"
        },
        "id": "gpHYjHEiRmvs",
        "outputId": "0b35ca5d-da9b-4e90-d7e9-385d0746e743"
      },
      "outputs": [
        {
          "output_type": "stream",
          "name": "stdout",
          "text": [
            "Shape of test images: torch.Size([100, 3, 32, 32])\n",
            "Shape of test labels: torch.Size([100])\n"
          ]
        }
      ],
      "source": [
        "# we do the same for test dataset\n",
        "test_loader = torch.utils.data.DataLoader(test_images, batch_size=BATCH_SIZE_TRAIN, \n",
        "                                          shuffle=SHUFFLE_DATA, \n",
        "                                          num_workers=NO_WORKERS)\n",
        "\n",
        "def loopy_test_loader(dl):\n",
        "    data_iter = iter(dl)\n",
        "    \n",
        "    while True:\n",
        "        try:\n",
        "            yield next(data_iter)\n",
        "        except StopIteration:\n",
        "            data_iter = iter(dl)\n",
        "            yield next(data_iter)\n",
        "\n",
        "(batch_test_images, batch_test_labels) = next(iter(test_loader))\n",
        "print(f'Shape of test images: {batch_test_images.size()}')\n",
        "print(f'Shape of test labels: {batch_test_labels.size()}')\n"
      ]
    },
    {
      "cell_type": "markdown",
      "metadata": {
        "id": "-Q9xIZOJEiiU"
      },
      "source": [
        "### Setări generale: nume model, utilizare batch normalization, utilizare regularizare"
      ]
    },
    {
      "cell_type": "code",
      "execution_count": 92,
      "metadata": {
        "id": "6b8dDvmpEgwM"
      },
      "outputs": [],
      "source": [
        "model = \"mlp\" # @param['mlp', 'lenet', 'deep_net'] \n",
        "flag_batch_norm = 'OFF'  # @param['ON', 'OFF']\n",
        "flag_regularize = True     # @param['True', 'False'] {type:\"raw\"}\n"
      ]
    },
    {
      "cell_type": "markdown",
      "source": [
        "## 1. Definirea unui MLP\n",
        "\n",
        "Vom defini un model de tip MLP cu activari ReLU:\n",
        "  * Linearize\n",
        "  * FC(3 * 32 * 32, 256) + ReLU\n",
        "  * FC(256, 256) + ReLU\n",
        "  * FC(256, 10)"
      ],
      "metadata": {
        "id": "6WHWlDznN-cs"
      }
    },
    {
      "cell_type": "code",
      "source": [
        "class MLP(nn.Module):\n",
        "    def __init__(self, num_classes=10):\n",
        "        super(MLP, self).__init__()\n",
        "        in_size = 3 * 32 * 32\n",
        "        self.fc1 = nn.Linear(in_size, 256)\n",
        "        self.fc2 = nn.Linear(256, 256)\n",
        "        self.fc3 = nn.Linear(256, num_classes)\n",
        "        self.relu = nn.ReLU(inplace=True)\n",
        "\n",
        "    def forward(self, x):\n",
        "        #x = torch.flatten(x, 1)\n",
        "        x = x.view(-1, 3 * 32 * 32)\n",
        "\n",
        "        x = self.relu(self.fc1(x))\n",
        "        x = self.relu(self.fc2(x))\n",
        "        x = self.fc3(x)\n",
        "        return x"
      ],
      "metadata": {
        "id": "vmXq80IqPr2U"
      },
      "execution_count": 93,
      "outputs": []
    },
    {
      "cell_type": "markdown",
      "source": [
        "## 2. Definirea retelei convolutionale LeNet\n",
        "  * Conv2d(3, 6, k=5) + ReLU  # img size = 28x28\n",
        "  * MaxPool2D(2,2) # img size = 14x14\n",
        "  * Conv2d(6, 16, 5) + ReLU # img size = 10x10\n",
        "  * MaxPool2D(2,2) # img size = 5x5\n",
        "  * Linearize(16, 5, 5)\n",
        "  * FC(16 * 5 * 5, 120) + ReLU\n",
        "  * FC(120, 84) + ReLU\n",
        "  * FC(84, 10)\n"
      ],
      "metadata": {
        "id": "WeGgGdnzRNbX"
      }
    },
    {
      "cell_type": "code",
      "source": [
        "class LeNet(nn.Module):\n",
        "    def __init__(self):\n",
        "        super(LeNet, self).__init__()\n",
        "        self.conv1 = nn.Conv2d(3, 6, 5)\n",
        "        self.pool = nn.MaxPool2d(2, 2)\n",
        "        self.conv2 = nn.Conv2d(6, 16, 5)\n",
        "        self.fc1 = nn.Linear(16 * 5 * 5, 120)\n",
        "        self.fc2 = nn.Linear(120, 84)\n",
        "        self.fc3 = nn.Linear(84, 10)\n",
        "        self.relu = nn.ReLU(inplace=True)\n",
        "\n",
        "    def forward(self, x):\n",
        "        x = self.pool(self.relu(self.conv1(x)))\n",
        "        x = self.pool(self.relu(self.conv2(x)))\n",
        "        x = x.view(-1, 16 * 5 * 5)\n",
        "        x = self.relu(self.fc1(x))\n",
        "        x = self.relu(self.fc2(x))\n",
        "        x = self.fc3(x)\n",
        "        return x"
      ],
      "metadata": {
        "id": "RPtBCvx-RS1-"
      },
      "execution_count": 78,
      "outputs": []
    },
    {
      "cell_type": "markdown",
      "metadata": {
        "id": "KA8hnT4H-XmK"
      },
      "source": [
        "## 3. Definirea arhitecturii unei retele adanci - DeepConvNet\n",
        "\n",
        "Implementarea propusă se inspira din modelele de tip [ResNet](https://d2l.ai/chapter_convolutional-modern/resnet.html).\n",
        "Astfel, reteaua este construita dupa urmatorul sablon:\n",
        "  * Conv2d(3, 16, k=7, stride=2, padding=3, bias=False) + Norm + ReLU\n",
        "  * Conv2d(16, 64, k=1, stride=1) + Norm + ReLU\n",
        "  * 3*ConvBlock(16, 64, Norm)\n",
        "  * Conv2d(64, 128, k=1, stride=2) + Norm + ReLU\n",
        "  * 3*ConvBlock(32, 128, Norm)\n",
        "  * Conv2d(128, 256, k=1, stride=2) + Norm +ReLU\n",
        "  * 3*ConvBlock(64, 256, Norm)\n",
        "  * AdaptiveAveragePooling((1,1)) + Flatten\n",
        "  * FC(256,10)"
      ]
    },
    {
      "cell_type": "code",
      "execution_count": 78,
      "metadata": {
        "id": "fRsh0ZUeV6m2"
      },
      "outputs": [],
      "source": [
        ""
      ]
    },
    {
      "cell_type": "markdown",
      "metadata": {
        "id": "B_JHI42C-Xmh"
      },
      "source": [
        "### 3.1 Definirea unui strat de normalizare de tip identitate\n",
        "Inputul este forwardat ca atare."
      ]
    },
    {
      "cell_type": "code",
      "execution_count": 79,
      "metadata": {
        "id": "YCkBbX4H-Xmj"
      },
      "outputs": [],
      "source": [
        "class EmptyNorm(nn.Module):\n",
        "    def __init__(self, *args, **kwargs):\n",
        "        super(EmptyNorm, self).__init__()\n",
        "        self._modules = dict()\n",
        "    \n",
        "    def forward(self, input):\n",
        "        return input"
      ]
    },
    {
      "cell_type": "markdown",
      "metadata": {
        "id": "tEHrKw71-XmO"
      },
      "source": [
        "### 3.2 Apeluri auxiliare de convoluții 3x3 și 1x1 folosite într-un bloc ConvBlock \n",
        "Instantiațe în mod corespunzător folosind clasa de tip [nn.Conv2d](https://pytorch.org/docs/master/generated/torch.nn.Conv2d.html) din PyTorch "
      ]
    },
    {
      "cell_type": "code",
      "execution_count": 80,
      "metadata": {
        "id": "6cMC4BWe-XmO"
      },
      "outputs": [],
      "source": [
        "def conv3x3(in_planes, out_planes, stride=1, padding=1):\n",
        "    \"\"\"\n",
        "    3x3 2D convolution with padding=1\n",
        "    @:param in_planes: the number of input channels for the convolution filter\n",
        "    @:param out_planes: the number of output channels for the convolution filter\n",
        "    @:param stride: stride value for the convolution filter, default is 1\n",
        "    @:param padding: the padding to apply, default is 1 to keep width and height the same in the output activation maps \n",
        "    \"\"\"\n",
        "    return nn.Conv2d(in_planes, out_planes, kernel_size=3, stride=stride,\n",
        "                     padding=padding, bias=False)\n",
        "\n",
        "\n",
        "def conv1x1(in_planes, out_planes, stride=1):\n",
        "    \"\"\"\n",
        "    1x1 2D convolution\n",
        "    @:param in_planes: the number of input channels for the convolution filter\n",
        "    @:param out_planes: the number of output channels for the convolution filter\n",
        "    @:param stride: stride value for the convolution filter, default is 1\n",
        "    \"\"\"\n",
        "    return nn.Conv2d(in_planes, out_planes, kernel_size=1, stride=stride, bias=False)\n"
      ]
    },
    {
      "cell_type": "markdown",
      "metadata": {
        "id": "xPF33y9U-XmS"
      },
      "source": [
        "### 3.3: Definirea unui ConvBlock similar cu un block ResNet cu \"gâtuire\" (bottleneck)\n",
        "\n",
        "Blocul de tip \"bottleneck\" este definit ca în figura următoare.\n",
        "\n",
        "![ResNet-50 Bottleneck block](https://github.com/asorici/NN-labs/blob/master/Lab3-CNN/img/Bottleneck-Blocks.png?raw=1)\n"
      ]
    },
    {
      "cell_type": "code",
      "execution_count": 81,
      "metadata": {
        "id": "xby5GIFGaIEh"
      },
      "outputs": [],
      "source": [
        "class ConvBlock(nn.Module):\n",
        "    def __init__(self, bottleneck_channels, block_channels, norm_layer=EmptyNorm):\n",
        "        super(ConvBlock, self).__init__()\n",
        "\n",
        "        # first conv 1x1 layer which implements the bottlenecking\n",
        "        self.conv1 = conv1x1(block_channels, bottleneck_channels)\n",
        "        self.norm1 = norm_layer(bottleneck_channels)\n",
        "\n",
        "        # conv 3x3 layer which applies the stride given as parameter\n",
        "        self.conv2 = conv3x3(bottleneck_channels, bottleneck_channels)\n",
        "        self.norm2 = norm_layer(bottleneck_channels)\n",
        "\n",
        "        # conv 1x1 layer where the number of output channels is \"expanded\" according to the defined expansion factor\n",
        "        # according to the above figure, the expansion factor is set to 4\n",
        "        self.conv3 = conv1x1(bottleneck_channels, block_channels)\n",
        "        self.norm3 = norm_layer(block_channels)\n",
        "\n",
        "        self.relu = nn.ReLU(inplace=True)\n",
        "\n",
        "    def forward(self, x):\n",
        "        identity = x\n",
        "\n",
        "        # first layer conv1 + bn1 + relu\n",
        "        out = self.conv1(x)\n",
        "        out = self.norm1(out)\n",
        "        out = self.relu(out)\n",
        "\n",
        "        # second layer conv2 + bn2 + relu\n",
        "        out = self.conv2(out)\n",
        "        out = self.norm2(out)\n",
        "        out = self.relu(out)\n",
        "\n",
        "        # third layer conv3 + bn3\n",
        "        out = self.conv3(out)\n",
        "        out = self.norm3(out)\n",
        "\n",
        "        # add identity to residual and apply relu\n",
        "        out += identity\n",
        "        out = self.relu(out)\n",
        "\n",
        "        return out\n",
        "\n"
      ]
    },
    {
      "cell_type": "markdown",
      "metadata": {
        "id": "s14QG5Et-XmW"
      },
      "source": [
        "### 3.4. Definirea arhitecturii DeepConvNet - compunerea blocurilor funcționale\n"
      ]
    },
    {
      "cell_type": "code",
      "execution_count": 82,
      "metadata": {
        "id": "7nfiQxXS-XmX"
      },
      "outputs": [],
      "source": [
        "class DeepConvNet(nn.Module):\n",
        "    def __init__(self, norm_layer=EmptyNorm, base_depth=16, expansion=4, nr_layer_blocks=3, num_classes=10):\n",
        "        super(DeepConvNet, self).__init__()\n",
        "\n",
        "        self.norm_layer = norm_layer\n",
        "        self.base_depth = base_depth\n",
        "        self.conv1 = nn.Conv2d(3, self.base_depth, kernel_size=7, stride=2, padding=3,\n",
        "                               bias=False)  # image is now 16x16\n",
        "        self.norm1 = norm_layer(self.base_depth)\n",
        "        self.relu = nn.ReLU(inplace=True)\n",
        "\n",
        "        # change to 64 channels base and image size 16x16\n",
        "        depth1 = self.base_depth * expansion\n",
        "        self.conv_depth1 = conv1x1(self.base_depth, depth1, stride=1)\n",
        "        self.norm_depth1 = norm_layer(depth1)\n",
        "\n",
        "        # #### Layer 1, 3 blocks\n",
        "        self.layer1 = nn.Sequential(\n",
        "            *[ConvBlock(self.base_depth, depth1, norm_layer=self.norm_layer)] * nr_layer_blocks\n",
        "        )\n",
        "\n",
        "        # change to 128 channels base and image size 8x8\n",
        "        depth2 = depth1 * 2\n",
        "        self.conv_depth2 = conv1x1(depth1, depth2, stride=2)\n",
        "        self.norm_depth2 = norm_layer(depth2)\n",
        "\n",
        "        # #### Layer 2, 3 blocks\n",
        "        self.layer2 = nn.Sequential(\n",
        "            *[ConvBlock(int(depth2 / expansion), depth2)] * nr_layer_blocks\n",
        "        )\n",
        "\n",
        "        # change to 256 chanels and image size 4x4\n",
        "        depth3 = depth2 * 2\n",
        "        self.conv_depth3 = conv1x1(depth2, depth3, stride=2)\n",
        "        self.norm_depth3 = norm_layer(depth3)\n",
        "\n",
        "        # Layer 3, 3 blocks\n",
        "        self.layer3 = nn.Sequential(\n",
        "            *[ConvBlock(int(depth3 / expansion), depth3)] * nr_layer_blocks\n",
        "        )\n",
        "\n",
        "        # AveragePooling\n",
        "        self.avgpool = nn.AdaptiveAvgPool2d((1, 1))\n",
        "        self.fc = nn.Linear(depth3, num_classes)\n",
        "\n",
        "\n",
        "    def forward(self, x):\n",
        "        x = self.conv1(x)\n",
        "        x = self.norm1(x)\n",
        "        x = self.relu(x)\n",
        "\n",
        "        # apply depth1 transform + layer 1\n",
        "        x = self.conv_depth1(x)\n",
        "        x = self.norm_depth1(x)\n",
        "        x = self.relu(x)\n",
        "        x = self.layer1(x)\n",
        "\n",
        "        # apply depth2 transform + layer 2\n",
        "        x = self.conv_depth2(x)\n",
        "        x = self.norm_depth2(x)\n",
        "        x = self.relu(x)\n",
        "        x = self.layer2(x)\n",
        "\n",
        "        # apply depth3 transform + layer 3\n",
        "        x = self.conv_depth3(x)\n",
        "        x = self.norm_depth3(x)\n",
        "        x = self.relu(x)\n",
        "        x = self.layer3(x)\n",
        "\n",
        "        # apply global average pooling + flatten + FC\n",
        "        x = self.avgpool(x)\n",
        "        x = torch.flatten(x, 1)\n",
        "        x = self.fc(x)\n",
        "\n",
        "        return x"
      ]
    },
    {
      "cell_type": "markdown",
      "metadata": {
        "id": "QPex0rz3auId"
      },
      "source": [
        "## 4. Pregătirea pipeline-ului de antrenare"
      ]
    },
    {
      "cell_type": "markdown",
      "metadata": {
        "id": "9UolqZUINVKY"
      },
      "source": [
        "### Parametrizarea preprocesării datelor"
      ]
    },
    {
      "cell_type": "code",
      "execution_count": 83,
      "metadata": {
        "id": "SoTsOIRQSPV0"
      },
      "outputs": [],
      "source": [
        "# First define the preprocessing ops for the train/test data\n",
        "crop_height = 32  # @param \n",
        "crop_width = 32  # @param\n",
        "NUM_CLASSES = 10  # @param\n"
      ]
    },
    {
      "cell_type": "markdown",
      "metadata": {
        "id": "117ebPugarCO"
      },
      "source": [
        "### 4.1 Initializarea modelului rețelei și funcții auxiliare pentru inspectarea modelului definit"
      ]
    },
    {
      "cell_type": "code",
      "execution_count": 94,
      "metadata": {
        "colab": {
          "base_uri": "https://localhost:8080/"
        },
        "id": "pfHEpqp3DZbR",
        "outputId": "2da3caf9-9ae0-4d7d-8b22-d3224acf5d5f"
      },
      "outputs": [
        {
          "output_type": "stream",
          "name": "stdout",
          "text": [
            "MLP(\n",
            "  (fc1): Linear(in_features=3072, out_features=256, bias=True)\n",
            "  (fc2): Linear(in_features=256, out_features=256, bias=True)\n",
            "  (fc3): Linear(in_features=256, out_features=10, bias=True)\n",
            "  (relu): ReLU(inplace=True)\n",
            ")\n",
            "tensor([[ 0.0853, -0.0362,  0.0832,  0.0589,  0.0029, -0.0402,  0.0030, -0.0449,\n",
            "          0.0182, -0.0046],\n",
            "        [ 0.0336, -0.0108,  0.0533,  0.1329,  0.0754, -0.0027, -0.0593, -0.0420,\n",
            "          0.0091,  0.0714]], device='cuda:0', grad_fn=<AddmmBackward0>)\n",
            "tensor([0, 3], device='cuda:0')\n",
            "tensor([9, 7])\n"
          ]
        }
      ],
      "source": [
        "net = None                       # type: nn.Module\n",
        "\n",
        "if model == \"mlp\":\n",
        "  net = MLP(num_classes=NUM_CLASSES)\n",
        "elif model == \"lenet\":\n",
        "  net = LeNet()\n",
        "else:\n",
        "  if flag_batch_norm == \"ON\":\n",
        "      net = DeepConvNet(norm_layer=nn.BatchNorm2d, base_depth=16, expansion=4, \n",
        "                        nr_layer_blocks=3, num_classes=NUM_CLASSES)\n",
        "  else:\n",
        "      net = DeepConvNet(norm_layer=EmptyNorm, base_depth=16, expansion=4, \n",
        "                        nr_layer_blocks=3, num_classes=NUM_CLASSES)\n",
        "    \n",
        "net.train()               # Default after init is train\n",
        "net = net.to(device)      # Move network to device\n",
        "\n",
        "print(list(net.modules())[0])\n",
        "\n",
        "# Let us test that we can propagate a batch through the defined networks\n",
        "select = 2\n",
        "inputs = batch_train_images.to(device)[:select]\n",
        "target = batch_train_labels[:select]\n",
        "\n",
        "output = net(inputs)\n",
        "_, predicted = torch.max(output, 1)\n",
        "\n",
        "print(output)\n",
        "print(predicted)\n",
        "print(target)\n"
      ]
    },
    {
      "cell_type": "code",
      "execution_count": 85,
      "metadata": {
        "id": "5-F4W5niV1sm"
      },
      "outputs": [],
      "source": [
        "# Get number of parameters in a model by iterating through the model parameters\n",
        "def get_num_params(model):\n",
        "    num_params = 0\n",
        "    for params in model.parameters():\n",
        "        num_params += params.shape.numel()\n",
        "        \n",
        "    return num_params\n"
      ]
    },
    {
      "cell_type": "code",
      "execution_count": 86,
      "metadata": {
        "colab": {
          "base_uri": "https://localhost:8080/"
        },
        "id": "l7VKCh9ySddK",
        "outputId": "600495d2-382b-4558-a32b-3d1c3762f2b8"
      },
      "outputs": [
        {
          "output_type": "stream",
          "name": "stdout",
          "text": [
            "Total number of parameters of models\n",
            "<class '__main__.LeNet'> :  62006\n"
          ]
        }
      ],
      "source": [
        "# Get number of parameters in the model. Verify that we have implemented models correctly\n",
        "print(\"Total number of parameters of models\")\n",
        "print(str(net.__class__), \": \", get_num_params(net))  "
      ]
    },
    {
      "cell_type": "code",
      "execution_count": 87,
      "metadata": {
        "id": "xXwpnrFWSmBg"
      },
      "outputs": [],
      "source": [
        "def top_k_accuracy(k, target, output):\n",
        "    batch_size = target.size(0)\n",
        "    \n",
        "    _, pred = output.topk(k, 1, True, True)\n",
        "    \n",
        "    pred = pred.t()\n",
        "    correct = pred.eq(target.to(device).view(1, -1).expand_as(pred))\n",
        "\n",
        "    correct_k = correct[:k].view(-1).float().sum(0, keepdim=True)\n",
        "    correct_k.mul_(100.0 / batch_size)\n",
        "    \n",
        "    return correct_k\n"
      ]
    },
    {
      "cell_type": "markdown",
      "metadata": {
        "id": "NTOU1m83NVKb"
      },
      "source": [
        "### 4.2 Parametrizarea optimizatorului"
      ]
    },
    {
      "cell_type": "code",
      "execution_count": 99,
      "metadata": {
        "id": "l_dTKQblSzkm"
      },
      "outputs": [],
      "source": [
        "lr_init = 0.001                # initial learning rate\n",
        "lr_factor = 0.1             # learning rate decay factor\n",
        "weight_decay_factor = 1e-4  # weight decay factor for L2 weight regularization\n",
        "lr_schedule_milestones = [50e3, 75e3, 100e3]\n",
        "\n",
        "# Define a Loss function and optimizer\n",
        "criterion = nn.CrossEntropyLoss()\n",
        "\n",
        "# Define optimizer - SGD with momentum and weight_decay for L2 weight regularization\n",
        "#optimizer = torch.optim.SGD(net.parameters(), lr=lr_init, momentum=0.9, weight_decay=weight_decay_factor)\n",
        "optimizer = torch.optim.Adam(net.parameters(), lr=lr_init)\n",
        "\n",
        "if flag_regularize:\n",
        "    #optimizer = torch.optim.SGD(net.parameters(), lr=lr_init, momentum=0.9, weight_decay=weight_decay_factor)\n",
        "    optimizer = torch.optim.Adam(net.parameters(), lr=lr_init, weight_decay=weight_decay_factor)\n",
        "        \n",
        "# Define learning rate scheduler\n",
        "lr_scheduler = torch.optim.lr_scheduler.MultiStepLR(optimizer, milestones=lr_schedule_milestones, gamma=lr_factor)"
      ]
    },
    {
      "cell_type": "markdown",
      "metadata": {
        "id": "HqnmUI9FNVKc"
      },
      "source": [
        "### Afișarea loss-ului"
      ]
    },
    {
      "cell_type": "code",
      "execution_count": 89,
      "metadata": {
        "id": "BeHQMMqsS9Cz"
      },
      "outputs": [],
      "source": [
        "# Function that takes a list of losses and plots them.\n",
        "REFRESH_EVERY = 1000\n",
        "\n",
        "def plot_losses(loss_list, steps, ct):\n",
        "    if ct % REFRESH_EVERY == 0:\n",
        "        display.clear_output(wait=True)\n",
        "    \n",
        "    display.display(pl.gcf())\n",
        "    pl.plot(steps, loss_list, c='b')\n",
        "    time.sleep(1.0)"
      ]
    },
    {
      "cell_type": "markdown",
      "metadata": {
        "id": "JQBpZRP-TKI0"
      },
      "source": [
        "### Parametrizarea iterațiilor de antrenare, raportare și testare"
      ]
    },
    {
      "cell_type": "code",
      "execution_count": 97,
      "metadata": {
        "id": "YNtIcyk7S_ub"
      },
      "outputs": [],
      "source": [
        "# Define number of training iterations and reporting intervals\n",
        "TRAIN_ITERS = 100e3  # @param\n",
        "REPORT_TRAIN_EVERY = 100  # @param\n",
        "PLOT_EVERY = 100  # @param\n",
        "REPORT_TEST_EVERY = 200  # @param\n",
        "TEST_ITERS = 100  # @param"
      ]
    },
    {
      "cell_type": "markdown",
      "metadata": {
        "id": "6ARGcbSGTFDN"
      },
      "source": [
        "## 5. Antrenarea modelului"
      ]
    },
    {
      "cell_type": "code",
      "execution_count": null,
      "metadata": {
        "colab": {
          "base_uri": "https://localhost:8080/",
          "height": 1000
        },
        "id": "VSuV2dF-TDCD",
        "outputId": "f6f613c6-18f6-41a6-9154-9e7b45bcfbd8"
      },
      "outputs": [
        {
          "output_type": "display_data",
          "data": {
            "text/plain": [
              "<Figure size 432x288 with 0 Axes>"
            ]
          },
          "metadata": {}
        },
        {
          "output_type": "stream",
          "name": "stdout",
          "text": [
            "[1,   100,     99] LR: 0.00100\n",
            "[1,   100] loss: 1.81597, acc: 34.74000\n"
          ]
        },
        {
          "output_type": "display_data",
          "data": {
            "text/plain": [
              "<Figure size 432x288 with 1 Axes>"
            ],
            "image/png": "[encoded data removed]"
          },
          "metadata": {}
        },
        {
          "output_type": "stream",
          "name": "stdout",
          "text": [
            "[1,   200,    199] LR: 0.00100\n",
            "[1,   200] loss: 1.74500, acc: 37.39000\n",
            "[1,   200] avg_test_loss: 1.62400, avg_test_acc: 41.94\n"
          ]
        },
        {
          "output_type": "display_data",
          "data": {
            "text/plain": [
              "<Figure size 432x288 with 1 Axes>"
            ],
            "image/png": "[encoded data removed]"
          },
          "metadata": {}
        },
        {
          "output_type": "stream",
          "name": "stdout",
          "text": [
            "[1,   300,    299] LR: 0.00100\n",
            "[1,   300] loss: 1.70838, acc: 38.62000\n"
          ]
        },
        {
          "output_type": "display_data",
          "data": {
            "text/plain": [
              "<Figure size 432x288 with 1 Axes>"
            ],
            "image/png": "[encoded data removed]"
          },
          "metadata": {}
        },
        {
          "output_type": "stream",
          "name": "stdout",
          "text": [
            "[1,   400,    399] LR: 0.00100\n",
            "[1,   400] loss: 1.68314, acc: 38.48000\n",
            "[1,   400] avg_test_loss: 1.56994, avg_test_acc: 44.18\n"
          ]
        },
        {
          "output_type": "display_data",
          "data": {
            "text/plain": [
              "<Figure size 432x288 with 1 Axes>"
            ],
            "image/png": "[encoded data removed]"
          },
          "metadata": {}
        },
        {
          "output_type": "stream",
          "name": "stdout",
          "text": [
            "[1,   500,    499] LR: 0.00100\n",
            "[1,   500] loss: 1.65686, acc: 40.08000\n"
          ]
        }
      ],
      "source": [
        "# Question: What is the accuracy of the model at iteration 0, i.e. before training starts?\n",
        "\n",
        "EPOCHS = int(TRAIN_ITERS / (TRAIN_DATASET_SIZE / BATCH_SIZE_TRAIN))\n",
        "\n",
        "train_iter = 0\n",
        "losses = []\n",
        "steps = []\n",
        "\n",
        "# simulate an inifinte test data provider by looping over the test data\n",
        "test_data_provider = loopy_test_loader(test_loader)\n",
        "\n",
        "# set model in train mode\n",
        "net.train()\n",
        "\n",
        "running_loss = 0.0\n",
        "running_acc = 0.0\n",
        "ct = 0\n",
        "\n",
        "for epoch in range(int(EPOCHS)):  # loop over the dataset multiple times\n",
        "    \n",
        "    for i, data in enumerate(train_loader, 0):\n",
        "        # set the learning rate and decay according to iteration schedule\n",
        "        lr_scheduler.step()\n",
        "        \n",
        "        # get the inputs; data is a list of [inputs, labels]\n",
        "        inputs, labels = data[0].to(device), data[1].to(device)\n",
        "\n",
        "        # zero the parameter gradients\n",
        "        optimizer.zero_grad()\n",
        "\n",
        "        # forward + backward + optimize\n",
        "        outputs = net(inputs)\n",
        "        loss = criterion(outputs, labels)\n",
        "        loss.backward()\n",
        "        optimizer.step()\n",
        "\n",
        "        # print statistics\n",
        "        running_loss += loss.item()\n",
        "        running_acc += top_k_accuracy(1, labels, outputs)\n",
        "        \n",
        "        if train_iter % REPORT_TRAIN_EVERY == REPORT_TRAIN_EVERY - 1:    # print every REPORT_TRAIN_EVERY mini-batch iterations\n",
        "            train_loss = running_loss / REPORT_TRAIN_EVERY\n",
        "            train_acc = running_acc / REPORT_TRAIN_EVERY\n",
        "            \n",
        "            print('[%d, %5d, %6d] LR: %.5f' % (epoch + 1, i + 1, train_iter, lr_scheduler.get_lr()[-1]))\n",
        "            print('[%d, %5d] loss: %.5f, acc: %.5f' %\n",
        "                  (epoch + 1, i + 1, train_loss, train_acc))\n",
        "            \n",
        "            losses.append(train_loss)\n",
        "            steps.append(train_iter)\n",
        "            \n",
        "            running_loss = 0\n",
        "            train_loss = 0\n",
        "            running_acc = 0\n",
        "            \n",
        "        if train_iter % PLOT_EVERY == 0:\n",
        "            plot_losses(losses, steps, train_iter)\n",
        "            \n",
        "        train_iter += 1\n",
        "    \n",
        "        if train_iter % REPORT_TEST_EVERY == 0:\n",
        "            # set model in test mode\n",
        "            net.eval()\n",
        "            \n",
        "            with torch.no_grad():\n",
        "                # evaluate over at most TEST_ITER sub samples from the test_loader\n",
        "                test_iter = 0\n",
        "                test_loss = 0\n",
        "                correct = 0\n",
        "                \n",
        "                while test_iter < TEST_ITERS:\n",
        "                #for j, test_data in enumerate(test_loader, start=test_ct):\n",
        "                    test_data = next(test_data_provider)\n",
        "                        \n",
        "                    # get the test inputs; data is a list of [inputs, labels]\n",
        "                    test_inputs, test_labels = test_data[0].to(device), test_data[1].to(device)\n",
        "                    \n",
        "                    out = net(test_inputs)\n",
        "                    test_loss += criterion(out, test_labels)\n",
        "                    \n",
        "                    correct += top_k_accuracy(1, test_labels, out)\n",
        "                    \n",
        "                    test_iter += 1\n",
        "                    \n",
        "                avg_test_loss = test_loss / TEST_ITERS\n",
        "                avg_acc = correct / TEST_ITERS\n",
        "                \n",
        "                print('[%d, %5d] avg_test_loss: %.5f, avg_test_acc: %.2f' \n",
        "                    % (epoch + 1, i + 1, avg_test_loss, avg_acc))\n",
        "                \n",
        "            # set model back in train mode\n",
        "            net.train()\n",
        "    \n",
        "print('Finished Training')"
      ]
    },
    {
      "cell_type": "markdown",
      "source": [
        "## 6. Interpretarea rezultatelor\n",
        "**Răspundeți la următoarele întrebări:**\n",
        "1. Care este diferenta de acuratete intre MLP, LeNet si DeepConvNet, **dupa 8 epoci de antrenare**?\n",
        "2. Care este efectul utilizării normalizării de tip BatchNorm pentru retelele convolutionale adanci?"
      ],
      "metadata": {
        "id": "yDEaAAT4bFNy"
      }
    },
    {
      "cell_type": "code",
      "source": [
        ""
      ],
      "metadata": {
        "id": "w7cyOzfJbwMr"
      },
      "execution_count": null,
      "outputs": []
    }
  ],
  "metadata": {
    "accelerator": "GPU",
    "colab": {
      "collapsed_sections": [],
      "name": "lab7-pytorch.ipynb",
      "provenance": []
    },
    "kernelspec": {
      "display_name": "Python 3 (ipykernel)",
      "language": "python",
      "name": "python3"
    },
    "language_info": {
      "codemirror_mode": {
        "name": "ipython",
        "version": 3
      },
      "file_extension": ".py",
      "mimetype": "text/x-python",
      "name": "python",
      "nbconvert_exporter": "python",
      "pygments_lexer": "ipython3",
      "version": "3.9.7"
    }
  },
  "nbformat": 4,
  "nbformat_minor": 0
}